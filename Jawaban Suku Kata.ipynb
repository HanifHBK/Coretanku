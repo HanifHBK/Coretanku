{
 "cells": [
  {
   "cell_type": "code",
   "execution_count": 1,
   "metadata": {},
   "outputs": [
    {
     "name": "stdin",
     "output_type": "stream",
     "text": [
      " aku punya anjing kecil suka berlarilari\n"
     ]
    },
    {
     "name": "stdout",
     "output_type": "stream",
     "text": [
      "a-ku pu-nya an-ji ke-cil su-ka ber-la-ri-la-ri"
     ]
    }
   ],
   "source": [
    "# Ini jawaban yang sesuai dimintai problem\n",
    "arr_vokal = [\"a\", \"i\", \"u\", \"e\", \"o\"]\n",
    "s = input()\n",
    "s += \"    \"\n",
    "p = len(s)\n",
    "for i in range(p-4):\n",
    "    if (s[i] in arr_vokal):\n",
    "        if (i >= 1) and (s[i-1] not in arr_vokal) and (s[i-1] != \" \"):\n",
    "            if (i >= 2) and (s[i-2] not in arr_vokal) and (s[i-2] != \" \"):\n",
    "                if (i >= 3) and (s[i-3] not in arr_vokal) and (s[i-3] != \" \"):\n",
    "                    if (i >= 4) and (s[i-4] not in arr_vokal) and (s[i-4] != \" \"):\n",
    "                        print(s[i-2] + s[i-1], end=\"\")\n",
    "                    else:\n",
    "                        print(s[i-1], end=\"\")\n",
    "                else :\n",
    "                    if(s[i-2] == \"n\"):\n",
    "                        if(s[i-1] == \"y\"):\n",
    "                            print(\"ny\", end=\"\")\n",
    "                        elif(s[i-1] == \"g\"):\n",
    "                            print(\"ng\", end=\"\")\n",
    "                        else:\n",
    "                            print(s[i-1], end=\"\")\n",
    "                    else:\n",
    "                        print(s[i-1], end=\"\")\n",
    "            else:\n",
    "                print(s[i-1], end=\"\")\n",
    "        print(s[i], end=\"\")\n",
    "        count = 1\n",
    "        if (i <= (p-2)) and (s[i+1] not in arr_vokal) and (s[i+1] != \" \"):\n",
    "            count = 2\n",
    "            if (i <= (p-3)) and (s[i+2] not in arr_vokal) and (s[i+2] != \" \"):\n",
    "                count = 3\n",
    "                if (i <= (p-4)) and (s[i+3] not in arr_vokal) and (s[i+3] != \" \"):\n",
    "                    count = 4\n",
    "                    print(s[i+1] + s[i+2], end=\"\")\n",
    "                else :\n",
    "                    if(s[i+1] == \"n\"):\n",
    "                        if (s[i+2] != \"y\") and (s[i+2] != \"g\"):\n",
    "                            print(s[i+1], end=\"\")\n",
    "                    else :\n",
    "                        print(s[i+1], end=\"\")\n",
    "            elif (s[i+2] == \" \"):\n",
    "                print(s[i+1], end=\"\")\n",
    "        if(s[i+count] != \" \"):\n",
    "            print(\"-\", end=\"\")\n",
    "    if s[i] == \" \":\n",
    "        print(\" \", end=\"\")"
   ]
  },
  {
   "cell_type": "code",
   "execution_count": 2,
   "metadata": {},
   "outputs": [
    {
     "name": "stdin",
     "output_type": "stream",
     "text": [
      " aku punya anjing kecil suka berlarilari\n"
     ]
    },
    {
     "name": "stdout",
     "output_type": "stream",
     "text": [
      "a-ku pu-nya an-jing ke-cil su-ka ber-la-ri-la-ri"
     ]
    }
   ],
   "source": [
    "# ini jawaban sesuai contoh jawaban\n",
    "arr_vokal = [\"a\", \"i\", \"u\", \"e\", \"o\"]\n",
    "s = input()\n",
    "s += \"    \"\n",
    "p = len(s)\n",
    "for i in range(p-4):\n",
    "    if (s[i] in arr_vokal):\n",
    "        if (i >= 1) and (s[i-1] not in arr_vokal) and (s[i-1] != \" \"):\n",
    "            if (i >= 2) and (s[i-2] not in arr_vokal) and (s[i-2] != \" \"):\n",
    "                if (i >= 3) and (s[i-3] not in arr_vokal) and (s[i-3] != \" \"):\n",
    "                    if (i >= 4) and (s[i-4] not in arr_vokal) and (s[i-4] != \" \"):\n",
    "                        print(s[i-2] + s[i-1], end=\"\")\n",
    "                    else:\n",
    "                        print(s[i-1], end=\"\")\n",
    "                else :\n",
    "                    if(s[i-2] == \"n\"):\n",
    "                        if(s[i-1] == \"y\"):\n",
    "                            print(\"ny\", end=\"\")\n",
    "                        elif(s[i-1] == \"g\"):\n",
    "                            print(\"ng\", end=\"\")\n",
    "                        else:\n",
    "                            print(s[i-1], end=\"\")\n",
    "                    else:\n",
    "                        print(s[i-1], end=\"\")\n",
    "            else:\n",
    "                print(s[i-1], end=\"\")\n",
    "        print(s[i], end=\"\")\n",
    "        count = 1\n",
    "        if (i <= (p-2)) and (s[i+1] not in arr_vokal) and (s[i+1] != \" \"):\n",
    "            count = 2\n",
    "            if (i <= (p-3)) and (s[i+2] not in arr_vokal) and (s[i+2] != \" \"):\n",
    "                count = 3\n",
    "                if (i <= (p-4)) and (s[i+3] not in arr_vokal) and (s[i+3] != \" \"):\n",
    "                    count = 4\n",
    "                    print(s[i+1] + s[i+2], end=\"\")\n",
    "                else :\n",
    "                    if(s[i+1] == \"n\"):\n",
    "                        if (s[i+2] != \"y\") and (s[i+2] != \"g\"):\n",
    "                            print(s[i+1], end=\"\")\n",
    "                        elif (s[i+count] == \" \"):\n",
    "                            print(s[i+1] + s[i+2], end=\"\")\n",
    "                    else :\n",
    "                        print(s[i+1], end=\"\")\n",
    "            elif (s[i+2] == \" \"):\n",
    "                print(s[i+1], end=\"\")\n",
    "        if(s[i+count] != \" \"):\n",
    "            print(\"-\", end=\"\")\n",
    "    if s[i] == \" \":\n",
    "        print(\" \", end=\"\")\n"
   ]
  },
  {
   "cell_type": "code",
   "execution_count": null,
   "metadata": {},
   "outputs": [],
   "source": []
  }
 ],
 "metadata": {
  "kernelspec": {
   "display_name": "Python 3",
   "language": "python",
   "name": "python3"
  },
  "language_info": {
   "codemirror_mode": {
    "name": "ipython",
    "version": 3
   },
   "file_extension": ".py",
   "mimetype": "text/x-python",
   "name": "python",
   "nbconvert_exporter": "python",
   "pygments_lexer": "ipython3",
   "version": "3.8.3"
  }
 },
 "nbformat": 4,
 "nbformat_minor": 4
}
